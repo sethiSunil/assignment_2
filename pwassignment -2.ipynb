{
 "cells": [
  {
   "cell_type": "code",
   "execution_count": null,
   "id": "42ea02ee-99ac-4b06-9355-340381c07baf",
   "metadata": {},
   "outputs": [
    {
     "name": "stdout",
     "output_type": "stream",
     "text": [
      "The sum of  70 and 35 is : 105\n",
      "The diifernce between 42 and 38 is : 4\n",
      "The product of  18 and 12 is  : 216\n",
      "The quotient of  20 and 4 is : 5.0\n"
     ]
    }
   ],
   "source": [
    "# 1. Calculate the sum , difference , product , and quotient of two numbers.\n",
    "\n",
    "# sum of two numbers\n",
    "num1 = 70 \n",
    " \n",
    "num2 = 35\n",
    "\n",
    "# calculate \n",
    "\n",
    "sum = num1 + num2\n",
    "print(\"The sum of \", num1 , \"and\" , num2 , \"is :\" , sum)\n",
    "\n",
    "\n",
    "# differencee of two number\n",
    "\n",
    "subs1 = 42\n",
    "\n",
    "subs2 = 38\n",
    "\n",
    "# calculate \n",
    "\n",
    "difference = subs1 - subs2\n",
    "print(\"The diifernce between\", subs1 , \"and\", subs2, \"is :\" ,difference)\n",
    "\n",
    "\n",
    "# product of two numbers \n",
    "multi1 = 18\n",
    "\n",
    "multi2 = 12\n",
    "\n",
    "# calulate\n",
    "product = multi1*multi2\n",
    "print(\"The product of \" , multi1,\"and\" , multi2 , \"is  :\", product)\n",
    "\n",
    "\n",
    "#  quotient of two numbers. \n",
    "numerator   = 20\n",
    "denominator = 4\n",
    "# calculate\n",
    "quotient = numerator / denominator\n",
    "print(\"The quotient of \" , numerator , \"and\"  , denominator ,\"is :\", quotient)"
   ]
  },
  {
   "cell_type": "code",
   "execution_count": 15,
   "id": "ab70588c-243d-481b-94b4-870ec0acf592",
   "metadata": {},
   "outputs": [
    {
     "name": "stdout",
     "output_type": "stream",
     "text": [
      "After addition assignment : 15\n",
      "After substraction assignment : 10\n",
      "After multiplication assignment : 50\n",
      "After division assignment : 25.0\n",
      "After modulus assignment : 4.0\n",
      "After Exponentiation assignment : 16.0\n"
     ]
    }
   ],
   "source": [
    "# 2. perform  various assignment operations on a variable.\n",
    " \n",
    "# assignment operator =\n",
    "\n",
    "#  assignment\n",
    "\n",
    "x = 10\n",
    "\n",
    "# Addition assignment +=\n",
    "\n",
    "\n",
    "x = 10\n",
    "x += 5\n",
    "print (\"After addition assignment :\", x)\n",
    "\n",
    "# substraction assignment -=\n",
    "\n",
    "x -= 5\n",
    "print (\"After substraction assignment :\", x)\n",
    "\n",
    "# multiplication assignment *=\n",
    "\n",
    "x *= 5\n",
    "print (\"After multiplication assignment :\", x)\n",
    "\n",
    "# division assignment /= \n",
    "\n",
    "x /= 2\n",
    "print (\"After division assignment :\", x)\n",
    "\n",
    "# modulus assignment %= 4\n",
    "\n",
    "x %= 7\n",
    "\n",
    "print (\"After modulus assignment :\", x) \n",
    "\n",
    "# Exponentiation assignment **=\n",
    "\n",
    "x **= 2\n",
    "print (\"After Exponentiation assignment :\", x)"
   ]
  },
  {
   "cell_type": "code",
   "execution_count": null,
   "id": "be05883e-9046-481c-84a0-066de8c7d13c",
   "metadata": {},
   "outputs": [
    {
     "name": "stdout",
     "output_type": "stream",
     "text": [
      "40 is greater than 20\n"
     ]
    }
   ],
   "source": [
    "#  3.compare two numbers and print the results\n",
    "\n",
    "number1 = 40\n",
    "number2 = 20\n",
    "\n",
    "# compare  \n",
    "\n",
    "if number1 > number2:\n",
    "    print( number1 ,\"is greater than\", number2)\n",
    "    \n",
    "elif number1 == number2:\n",
    "    print( number1 ,\"is equal to \", number2)\n",
    "\n",
    "else:\n",
    "    print( number1, \"is lesser than\", number2)"
   ]
  },
  {
   "cell_type": "code",
   "execution_count": 17,
   "id": "bc1a1c27-32d3-40eb-8446-0c646665eaff",
   "metadata": {},
   "outputs": [
    {
     "name": "stdout",
     "output_type": "stream",
     "text": [
      "The numbers are greater than 0\n",
      "Both conditions are False\n",
      "15 is equal to 20\n"
     ]
    }
   ],
   "source": [
    "# 4. check condition using logical operators\n",
    "\n",
    "# using  'and ' operator\n",
    "\n",
    "x = 10\n",
    "y = 15\n",
    "\n",
    "# check\n",
    "if x > 0 and y > 0:\n",
    "    print(\"The numbers are greater than 0\")\n",
    "\n",
    "else:\n",
    "    print(\"At least one number is not greater than 0\")\n",
    "    \n",
    "    \n",
    "# using  'or ' operator\n",
    "\n",
    "x = 5\n",
    "y = 10\n",
    "z = 3\n",
    "\n",
    "# check\n",
    "if x > y or y < z:\n",
    "    print(\"At least one condition is True\")\n",
    "    \n",
    "else:\n",
    "    print(\"Both conditions are False\")\n",
    "    \n",
    "\n",
    "# using not operator    \n",
    "\n",
    "x = 15\n",
    "y = 20\n",
    "\n",
    "# check\n",
    "if x == y:\n",
    "    print(x <\"is not equal to\", y)\n",
    "    \n",
    "else:\n",
    "    print(x ,\"is equal to\", y)"
   ]
  },
  {
   "cell_type": "code",
   "execution_count": 27,
   "id": "b6ac36c3-486c-4171-8408-8b6bbadb5524",
   "metadata": {},
   "outputs": [
    {
     "name": "stdout",
     "output_type": "stream",
     "text": [
      "45 are the same object as  45\n"
     ]
    }
   ],
   "source": [
    "# s. check the identity of variable\n",
    "\n",
    "var1 = 45\n",
    "var2 = 45 \n",
    "\n",
    "# check \n",
    "if var1 is var2:\n",
    "    print(var1 , \"are the same object as \" ,var2)\n",
    "\n",
    "else:\n",
    "    print(var1,\"are the diffent object to\", var2)"
   ]
  },
  {
   "cell_type": "code",
   "execution_count": null,
   "id": "c0553006-d153-4a6a-bea3-b64ceb37d561",
   "metadata": {},
   "outputs": [],
   "source": []
  },
  {
   "cell_type": "code",
   "execution_count": 1,
   "id": "22488f80-317d-4e64-971f-6a414c23f668",
   "metadata": {},
   "outputs": [
    {
     "name": "stdout",
     "output_type": "stream",
     "text": [
      "Bitwise AND operator is  0\n",
      "Bitwise OR operator is  15\n",
      "Bitwise XOR operator is  14\n",
      "Bitwise NOT operator is  -11\n",
      "Bitwise  left shift operator is  40\n",
      "Bitwise  right shift operator is  10\n"
     ]
    }
   ],
   "source": [
    "# 6. perform bitwise operations on any two integers \n",
    "\n",
    "# &: AND\n",
    "# |: OR\n",
    "# ^: XOR (exclusive OR)\n",
    "# ~: NOT\n",
    "# <<: Zero-fill left shift\n",
    "# >>: Signed right shift\n",
    "\n",
    "# Bitwise AND\n",
    "x = 10 \n",
    "y = 4  \n",
    "\n",
    "result = x & y\n",
    "print(\"Bitwise AND operator is \" ,result)\n",
    "\n",
    "# Bitwise |: OR \n",
    "a = 15\n",
    "b = 20\n",
    "\n",
    "output =a | b \n",
    "print(\"Bitwise OR operator is \", a)\n",
    "\n",
    "# Bitwise XOR\n",
    "\n",
    "a1 = 10 \n",
    "b2 = 4   \n",
    "\n",
    "result1 = a1 ^ b2\n",
    "print(\"Bitwise XOR operator is \",result1)  \n",
    "\n",
    "# Bitwise NOT\n",
    "\n",
    "operator = 10  \n",
    "\n",
    "output1 = ~ operator\n",
    "print( \"Bitwise NOT operator is \",output1)  \n",
    "\n",
    "# Bitwise left shift\n",
    "\n",
    "leftshift = 10  \n",
    "\n",
    "solution  = leftshift << 2\n",
    "print(\"Bitwise  left shift operator is \",solution)  \n",
    "\n",
    "# Bitwise Right shift\n",
    "\n",
    "right = 40 \n",
    "\n",
    "solution2 =  right >> 2\n",
    "print(\"Bitwise  right shift operator is \", solution2)  \n",
    "    "
   ]
  },
  {
   "cell_type": "code",
   "execution_count": 5,
   "id": "cabcea3f-4eed-467b-a72f-fe8a246e853f",
   "metadata": {},
   "outputs": [
    {
     "name": "stdout",
     "output_type": "stream",
     "text": [
      "-10\n",
      "10\n"
     ]
    }
   ],
   "source": [
    "# 7. Use unary operators to change the sign of a number\n",
    "\n",
    "# Example: -\n",
    "num = 10\n",
    "num = -num\n",
    "print(num)\n",
    "\n",
    "# Example:-2\n",
    "num1 = -10\n",
    "num1 = +10\n",
    "print(num1)\n"
   ]
  },
  {
   "cell_type": "code",
   "execution_count": 2,
   "id": "3b260648-716e-47d7-aa99-4f4a5f56876b",
   "metadata": {},
   "outputs": [
    {
     "name": "stdout",
     "output_type": "stream",
     "text": [
      "y is greater than or equal to x\n"
     ]
    }
   ],
   "source": [
    "# 8. Use a ternary operator to assign a value based on a conditions\n",
    "\n",
    "\n",
    "x = 10\n",
    "y = 20\n",
    "\n",
    "result = \"x is greater than y\" if x > y else \"y is greater than or equal to x\"\n",
    "print(result)\n",
    "\n"
   ]
  },
  {
   "cell_type": "code",
   "execution_count": null,
   "id": "ff13a435-e3d8-4e24-955f-aa11cf9c475e",
   "metadata": {},
   "outputs": [],
   "source": []
  }
 ],
 "metadata": {
  "kernelspec": {
   "display_name": "Python 3 (ipykernel)",
   "language": "python",
   "name": "python3"
  },
  "language_info": {
   "codemirror_mode": {
    "name": "ipython",
    "version": 3
   },
   "file_extension": ".py",
   "mimetype": "text/x-python",
   "name": "python",
   "nbconvert_exporter": "python",
   "pygments_lexer": "ipython3",
   "version": "3.10.8"
  }
 },
 "nbformat": 4,
 "nbformat_minor": 5
}
